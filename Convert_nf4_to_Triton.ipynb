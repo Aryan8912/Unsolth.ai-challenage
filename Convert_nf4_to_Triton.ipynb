{
  "nbformat": 4,
  "nbformat_minor": 0,
  "metadata": {
    "colab": {
      "provenance": [],
      "gpuType": "T4",
      "authorship_tag": "ABX9TyPcNphsriEmNXkQ9ERl+8rm",
      "include_colab_link": true
    },
    "kernelspec": {
      "name": "python3",
      "display_name": "Python 3"
    },
    "language_info": {
      "name": "python"
    },
    "accelerator": "GPU",
    "widgets": {
      "application/vnd.jupyter.widget-state+json": {
        "5760e245b6fb4ea0898d8fb546a60de7": {
          "model_module": "@jupyter-widgets/controls",
          "model_name": "VBoxModel",
          "model_module_version": "1.5.0",
          "state": {
            "_dom_classes": [],
            "_model_module": "@jupyter-widgets/controls",
            "_model_module_version": "1.5.0",
            "_model_name": "VBoxModel",
            "_view_count": null,
            "_view_module": "@jupyter-widgets/controls",
            "_view_module_version": "1.5.0",
            "_view_name": "VBoxView",
            "box_style": "",
            "children": [],
            "layout": "IPY_MODEL_63e2b960d7c149dd95e2cd03fbcdf31f"
          }
        },
        "d65d00def263490ca68a5940e8159610": {
          "model_module": "@jupyter-widgets/controls",
          "model_name": "HTMLModel",
          "model_module_version": "1.5.0",
          "state": {
            "_dom_classes": [],
            "_model_module": "@jupyter-widgets/controls",
            "_model_module_version": "1.5.0",
            "_model_name": "HTMLModel",
            "_view_count": null,
            "_view_module": "@jupyter-widgets/controls",
            "_view_module_version": "1.5.0",
            "_view_name": "HTMLView",
            "description": "",
            "description_tooltip": null,
            "layout": "IPY_MODEL_bf79f43b775b4d2f9bd0ecb9d73ca95b",
            "placeholder": "​",
            "style": "IPY_MODEL_3434d482c2964700b04ed040240d2b93",
            "value": "<center> <img\nsrc=https://huggingface.co/front/assets/huggingface_logo-noborder.svg\nalt='Hugging Face'> <br> Copy a token from <a\nhref=\"https://huggingface.co/settings/tokens\" target=\"_blank\">your Hugging Face\ntokens page</a> and paste it below. <br> Immediately click login after copying\nyour token or it might be stored in plain text in this notebook file. </center>"
          }
        },
        "bb852a35186842c78cbad71f7ecb553d": {
          "model_module": "@jupyter-widgets/controls",
          "model_name": "PasswordModel",
          "model_module_version": "1.5.0",
          "state": {
            "_dom_classes": [],
            "_model_module": "@jupyter-widgets/controls",
            "_model_module_version": "1.5.0",
            "_model_name": "PasswordModel",
            "_view_count": null,
            "_view_module": "@jupyter-widgets/controls",
            "_view_module_version": "1.5.0",
            "_view_name": "PasswordView",
            "continuous_update": true,
            "description": "Token:",
            "description_tooltip": null,
            "disabled": false,
            "layout": "IPY_MODEL_ba1dd836689c43a8b7f8dbfda47022ed",
            "placeholder": "​",
            "style": "IPY_MODEL_352cbfe418f94f1bb9e7cf5cf375bad2",
            "value": ""
          }
        },
        "398082186e954a67b9c55e6a0bf25e83": {
          "model_module": "@jupyter-widgets/controls",
          "model_name": "CheckboxModel",
          "model_module_version": "1.5.0",
          "state": {
            "_dom_classes": [],
            "_model_module": "@jupyter-widgets/controls",
            "_model_module_version": "1.5.0",
            "_model_name": "CheckboxModel",
            "_view_count": null,
            "_view_module": "@jupyter-widgets/controls",
            "_view_module_version": "1.5.0",
            "_view_name": "CheckboxView",
            "description": "Add token as git credential?",
            "description_tooltip": null,
            "disabled": false,
            "indent": true,
            "layout": "IPY_MODEL_231f36c3bb5c4dd78be7123db871e491",
            "style": "IPY_MODEL_6a269b90e56842e49220ee17937cf378",
            "value": true
          }
        },
        "3dc2d26dfa97438a8eb0daf5f7f07753": {
          "model_module": "@jupyter-widgets/controls",
          "model_name": "ButtonModel",
          "model_module_version": "1.5.0",
          "state": {
            "_dom_classes": [],
            "_model_module": "@jupyter-widgets/controls",
            "_model_module_version": "1.5.0",
            "_model_name": "ButtonModel",
            "_view_count": null,
            "_view_module": "@jupyter-widgets/controls",
            "_view_module_version": "1.5.0",
            "_view_name": "ButtonView",
            "button_style": "",
            "description": "Login",
            "disabled": false,
            "icon": "",
            "layout": "IPY_MODEL_f427f11e2165404da6fb58f8db57929c",
            "style": "IPY_MODEL_f984165255c94eb29b315ef95296fee6",
            "tooltip": ""
          }
        },
        "147a839bacb64a6c94d467050dd02f0b": {
          "model_module": "@jupyter-widgets/controls",
          "model_name": "HTMLModel",
          "model_module_version": "1.5.0",
          "state": {
            "_dom_classes": [],
            "_model_module": "@jupyter-widgets/controls",
            "_model_module_version": "1.5.0",
            "_model_name": "HTMLModel",
            "_view_count": null,
            "_view_module": "@jupyter-widgets/controls",
            "_view_module_version": "1.5.0",
            "_view_name": "HTMLView",
            "description": "",
            "description_tooltip": null,
            "layout": "IPY_MODEL_47fd73d759f0477e805991629e79d8fa",
            "placeholder": "​",
            "style": "IPY_MODEL_10bb727ff7354dee9296a2d41880fdac",
            "value": "\n<b>Pro Tip:</b> If you don't already have one, you can create a dedicated\n'notebooks' token with 'write' access, that you can then easily reuse for all\nnotebooks. </center>"
          }
        },
        "63e2b960d7c149dd95e2cd03fbcdf31f": {
          "model_module": "@jupyter-widgets/base",
          "model_name": "LayoutModel",
          "model_module_version": "1.2.0",
          "state": {
            "_model_module": "@jupyter-widgets/base",
            "_model_module_version": "1.2.0",
            "_model_name": "LayoutModel",
            "_view_count": null,
            "_view_module": "@jupyter-widgets/base",
            "_view_module_version": "1.2.0",
            "_view_name": "LayoutView",
            "align_content": null,
            "align_items": "center",
            "align_self": null,
            "border": null,
            "bottom": null,
            "display": "flex",
            "flex": null,
            "flex_flow": "column",
            "grid_area": null,
            "grid_auto_columns": null,
            "grid_auto_flow": null,
            "grid_auto_rows": null,
            "grid_column": null,
            "grid_gap": null,
            "grid_row": null,
            "grid_template_areas": null,
            "grid_template_columns": null,
            "grid_template_rows": null,
            "height": null,
            "justify_content": null,
            "justify_items": null,
            "left": null,
            "margin": null,
            "max_height": null,
            "max_width": null,
            "min_height": null,
            "min_width": null,
            "object_fit": null,
            "object_position": null,
            "order": null,
            "overflow": null,
            "overflow_x": null,
            "overflow_y": null,
            "padding": null,
            "right": null,
            "top": null,
            "visibility": null,
            "width": "50%"
          }
        },
        "bf79f43b775b4d2f9bd0ecb9d73ca95b": {
          "model_module": "@jupyter-widgets/base",
          "model_name": "LayoutModel",
          "model_module_version": "1.2.0",
          "state": {
            "_model_module": "@jupyter-widgets/base",
            "_model_module_version": "1.2.0",
            "_model_name": "LayoutModel",
            "_view_count": null,
            "_view_module": "@jupyter-widgets/base",
            "_view_module_version": "1.2.0",
            "_view_name": "LayoutView",
            "align_content": null,
            "align_items": null,
            "align_self": null,
            "border": null,
            "bottom": null,
            "display": null,
            "flex": null,
            "flex_flow": null,
            "grid_area": null,
            "grid_auto_columns": null,
            "grid_auto_flow": null,
            "grid_auto_rows": null,
            "grid_column": null,
            "grid_gap": null,
            "grid_row": null,
            "grid_template_areas": null,
            "grid_template_columns": null,
            "grid_template_rows": null,
            "height": null,
            "justify_content": null,
            "justify_items": null,
            "left": null,
            "margin": null,
            "max_height": null,
            "max_width": null,
            "min_height": null,
            "min_width": null,
            "object_fit": null,
            "object_position": null,
            "order": null,
            "overflow": null,
            "overflow_x": null,
            "overflow_y": null,
            "padding": null,
            "right": null,
            "top": null,
            "visibility": null,
            "width": null
          }
        },
        "3434d482c2964700b04ed040240d2b93": {
          "model_module": "@jupyter-widgets/controls",
          "model_name": "DescriptionStyleModel",
          "model_module_version": "1.5.0",
          "state": {
            "_model_module": "@jupyter-widgets/controls",
            "_model_module_version": "1.5.0",
            "_model_name": "DescriptionStyleModel",
            "_view_count": null,
            "_view_module": "@jupyter-widgets/base",
            "_view_module_version": "1.2.0",
            "_view_name": "StyleView",
            "description_width": ""
          }
        },
        "ba1dd836689c43a8b7f8dbfda47022ed": {
          "model_module": "@jupyter-widgets/base",
          "model_name": "LayoutModel",
          "model_module_version": "1.2.0",
          "state": {
            "_model_module": "@jupyter-widgets/base",
            "_model_module_version": "1.2.0",
            "_model_name": "LayoutModel",
            "_view_count": null,
            "_view_module": "@jupyter-widgets/base",
            "_view_module_version": "1.2.0",
            "_view_name": "LayoutView",
            "align_content": null,
            "align_items": null,
            "align_self": null,
            "border": null,
            "bottom": null,
            "display": null,
            "flex": null,
            "flex_flow": null,
            "grid_area": null,
            "grid_auto_columns": null,
            "grid_auto_flow": null,
            "grid_auto_rows": null,
            "grid_column": null,
            "grid_gap": null,
            "grid_row": null,
            "grid_template_areas": null,
            "grid_template_columns": null,
            "grid_template_rows": null,
            "height": null,
            "justify_content": null,
            "justify_items": null,
            "left": null,
            "margin": null,
            "max_height": null,
            "max_width": null,
            "min_height": null,
            "min_width": null,
            "object_fit": null,
            "object_position": null,
            "order": null,
            "overflow": null,
            "overflow_x": null,
            "overflow_y": null,
            "padding": null,
            "right": null,
            "top": null,
            "visibility": null,
            "width": null
          }
        },
        "352cbfe418f94f1bb9e7cf5cf375bad2": {
          "model_module": "@jupyter-widgets/controls",
          "model_name": "DescriptionStyleModel",
          "model_module_version": "1.5.0",
          "state": {
            "_model_module": "@jupyter-widgets/controls",
            "_model_module_version": "1.5.0",
            "_model_name": "DescriptionStyleModel",
            "_view_count": null,
            "_view_module": "@jupyter-widgets/base",
            "_view_module_version": "1.2.0",
            "_view_name": "StyleView",
            "description_width": ""
          }
        },
        "231f36c3bb5c4dd78be7123db871e491": {
          "model_module": "@jupyter-widgets/base",
          "model_name": "LayoutModel",
          "model_module_version": "1.2.0",
          "state": {
            "_model_module": "@jupyter-widgets/base",
            "_model_module_version": "1.2.0",
            "_model_name": "LayoutModel",
            "_view_count": null,
            "_view_module": "@jupyter-widgets/base",
            "_view_module_version": "1.2.0",
            "_view_name": "LayoutView",
            "align_content": null,
            "align_items": null,
            "align_self": null,
            "border": null,
            "bottom": null,
            "display": null,
            "flex": null,
            "flex_flow": null,
            "grid_area": null,
            "grid_auto_columns": null,
            "grid_auto_flow": null,
            "grid_auto_rows": null,
            "grid_column": null,
            "grid_gap": null,
            "grid_row": null,
            "grid_template_areas": null,
            "grid_template_columns": null,
            "grid_template_rows": null,
            "height": null,
            "justify_content": null,
            "justify_items": null,
            "left": null,
            "margin": null,
            "max_height": null,
            "max_width": null,
            "min_height": null,
            "min_width": null,
            "object_fit": null,
            "object_position": null,
            "order": null,
            "overflow": null,
            "overflow_x": null,
            "overflow_y": null,
            "padding": null,
            "right": null,
            "top": null,
            "visibility": null,
            "width": null
          }
        },
        "6a269b90e56842e49220ee17937cf378": {
          "model_module": "@jupyter-widgets/controls",
          "model_name": "DescriptionStyleModel",
          "model_module_version": "1.5.0",
          "state": {
            "_model_module": "@jupyter-widgets/controls",
            "_model_module_version": "1.5.0",
            "_model_name": "DescriptionStyleModel",
            "_view_count": null,
            "_view_module": "@jupyter-widgets/base",
            "_view_module_version": "1.2.0",
            "_view_name": "StyleView",
            "description_width": ""
          }
        },
        "f427f11e2165404da6fb58f8db57929c": {
          "model_module": "@jupyter-widgets/base",
          "model_name": "LayoutModel",
          "model_module_version": "1.2.0",
          "state": {
            "_model_module": "@jupyter-widgets/base",
            "_model_module_version": "1.2.0",
            "_model_name": "LayoutModel",
            "_view_count": null,
            "_view_module": "@jupyter-widgets/base",
            "_view_module_version": "1.2.0",
            "_view_name": "LayoutView",
            "align_content": null,
            "align_items": null,
            "align_self": null,
            "border": null,
            "bottom": null,
            "display": null,
            "flex": null,
            "flex_flow": null,
            "grid_area": null,
            "grid_auto_columns": null,
            "grid_auto_flow": null,
            "grid_auto_rows": null,
            "grid_column": null,
            "grid_gap": null,
            "grid_row": null,
            "grid_template_areas": null,
            "grid_template_columns": null,
            "grid_template_rows": null,
            "height": null,
            "justify_content": null,
            "justify_items": null,
            "left": null,
            "margin": null,
            "max_height": null,
            "max_width": null,
            "min_height": null,
            "min_width": null,
            "object_fit": null,
            "object_position": null,
            "order": null,
            "overflow": null,
            "overflow_x": null,
            "overflow_y": null,
            "padding": null,
            "right": null,
            "top": null,
            "visibility": null,
            "width": null
          }
        },
        "f984165255c94eb29b315ef95296fee6": {
          "model_module": "@jupyter-widgets/controls",
          "model_name": "ButtonStyleModel",
          "model_module_version": "1.5.0",
          "state": {
            "_model_module": "@jupyter-widgets/controls",
            "_model_module_version": "1.5.0",
            "_model_name": "ButtonStyleModel",
            "_view_count": null,
            "_view_module": "@jupyter-widgets/base",
            "_view_module_version": "1.2.0",
            "_view_name": "StyleView",
            "button_color": null,
            "font_weight": ""
          }
        },
        "47fd73d759f0477e805991629e79d8fa": {
          "model_module": "@jupyter-widgets/base",
          "model_name": "LayoutModel",
          "model_module_version": "1.2.0",
          "state": {
            "_model_module": "@jupyter-widgets/base",
            "_model_module_version": "1.2.0",
            "_model_name": "LayoutModel",
            "_view_count": null,
            "_view_module": "@jupyter-widgets/base",
            "_view_module_version": "1.2.0",
            "_view_name": "LayoutView",
            "align_content": null,
            "align_items": null,
            "align_self": null,
            "border": null,
            "bottom": null,
            "display": null,
            "flex": null,
            "flex_flow": null,
            "grid_area": null,
            "grid_auto_columns": null,
            "grid_auto_flow": null,
            "grid_auto_rows": null,
            "grid_column": null,
            "grid_gap": null,
            "grid_row": null,
            "grid_template_areas": null,
            "grid_template_columns": null,
            "grid_template_rows": null,
            "height": null,
            "justify_content": null,
            "justify_items": null,
            "left": null,
            "margin": null,
            "max_height": null,
            "max_width": null,
            "min_height": null,
            "min_width": null,
            "object_fit": null,
            "object_position": null,
            "order": null,
            "overflow": null,
            "overflow_x": null,
            "overflow_y": null,
            "padding": null,
            "right": null,
            "top": null,
            "visibility": null,
            "width": null
          }
        },
        "10bb727ff7354dee9296a2d41880fdac": {
          "model_module": "@jupyter-widgets/controls",
          "model_name": "DescriptionStyleModel",
          "model_module_version": "1.5.0",
          "state": {
            "_model_module": "@jupyter-widgets/controls",
            "_model_module_version": "1.5.0",
            "_model_name": "DescriptionStyleModel",
            "_view_count": null,
            "_view_module": "@jupyter-widgets/base",
            "_view_module_version": "1.2.0",
            "_view_name": "StyleView",
            "description_width": ""
          }
        },
        "74fe3854a8d4436e9ca4ccc4150b03c1": {
          "model_module": "@jupyter-widgets/controls",
          "model_name": "LabelModel",
          "model_module_version": "1.5.0",
          "state": {
            "_dom_classes": [],
            "_model_module": "@jupyter-widgets/controls",
            "_model_module_version": "1.5.0",
            "_model_name": "LabelModel",
            "_view_count": null,
            "_view_module": "@jupyter-widgets/controls",
            "_view_module_version": "1.5.0",
            "_view_name": "LabelView",
            "description": "",
            "description_tooltip": null,
            "layout": "IPY_MODEL_a615c3e9cd5a4c2199a1aabe797c5b1c",
            "placeholder": "​",
            "style": "IPY_MODEL_58aba3abbc184db4a851c0c97d2ecaa5",
            "value": "Connecting..."
          }
        },
        "a615c3e9cd5a4c2199a1aabe797c5b1c": {
          "model_module": "@jupyter-widgets/base",
          "model_name": "LayoutModel",
          "model_module_version": "1.2.0",
          "state": {
            "_model_module": "@jupyter-widgets/base",
            "_model_module_version": "1.2.0",
            "_model_name": "LayoutModel",
            "_view_count": null,
            "_view_module": "@jupyter-widgets/base",
            "_view_module_version": "1.2.0",
            "_view_name": "LayoutView",
            "align_content": null,
            "align_items": null,
            "align_self": null,
            "border": null,
            "bottom": null,
            "display": null,
            "flex": null,
            "flex_flow": null,
            "grid_area": null,
            "grid_auto_columns": null,
            "grid_auto_flow": null,
            "grid_auto_rows": null,
            "grid_column": null,
            "grid_gap": null,
            "grid_row": null,
            "grid_template_areas": null,
            "grid_template_columns": null,
            "grid_template_rows": null,
            "height": null,
            "justify_content": null,
            "justify_items": null,
            "left": null,
            "margin": null,
            "max_height": null,
            "max_width": null,
            "min_height": null,
            "min_width": null,
            "object_fit": null,
            "object_position": null,
            "order": null,
            "overflow": null,
            "overflow_x": null,
            "overflow_y": null,
            "padding": null,
            "right": null,
            "top": null,
            "visibility": null,
            "width": null
          }
        },
        "58aba3abbc184db4a851c0c97d2ecaa5": {
          "model_module": "@jupyter-widgets/controls",
          "model_name": "DescriptionStyleModel",
          "model_module_version": "1.5.0",
          "state": {
            "_model_module": "@jupyter-widgets/controls",
            "_model_module_version": "1.5.0",
            "_model_name": "DescriptionStyleModel",
            "_view_count": null,
            "_view_module": "@jupyter-widgets/base",
            "_view_module_version": "1.2.0",
            "_view_name": "StyleView",
            "description_width": ""
          }
        }
      }
    }
  },
  "cells": [
    {
      "cell_type": "markdown",
      "metadata": {
        "id": "view-in-github",
        "colab_type": "text"
      },
      "source": [
        "<a href=\"https://colab.research.google.com/github/Aryan8912/Unsolth.ai-challenage/blob/main/Convert_nf4_to_Triton.ipynb\" target=\"_parent\"><img src=\"https://colab.research.google.com/assets/colab-badge.svg\" alt=\"Open In Colab\"/></a>"
      ]
    },
    {
      "cell_type": "code",
      "source": [
        "# Code to install Unsloth, Triton, Torch etc\n",
        "%%capture\n",
        "!pip install --no-deps bitsandbytes accelerate xformers==0.0.29 peft trl triton\n",
        "!pip install --no-deps cut_cross_entropy unsloth_zoo\n",
        "!pip install sentencepiece protobuf datasets huggingface_hub hf_transfer\n",
        "!pip install --no-deps unsloth"
      ],
      "metadata": {
        "id": "r2bkzicLQpCW"
      },
      "execution_count": 1,
      "outputs": []
    },
    {
      "cell_type": "code",
      "source": [
        "import torch\n",
        "import triton\n",
        "from triton import language as tl\n",
        "from transformers import (\n",
        "    AutoTokenizer,\n",
        "    BitsAndBytesConfig,\n",
        "    TrainingArguments,\n",
        "    AutoModelForSequenceClassification,\n",
        "    TrainingArguments,\n",
        "    Trainer,\n",
        "    EarlyStoppingCallback,\n",
        "    DataCollatorWithPadding,\n",
        ")\n",
        "import bitsandbytes as bnb"
      ],
      "metadata": {
        "id": "EhqjcTx5FM5k"
      },
      "execution_count": 2,
      "outputs": []
    },
    {
      "cell_type": "code",
      "source": [
        "from huggingface_hub import notebook_login\n",
        "notebook_login()"
      ],
      "metadata": {
        "colab": {
          "base_uri": "https://localhost:8080/",
          "height": 17,
          "referenced_widgets": [
            "5760e245b6fb4ea0898d8fb546a60de7",
            "d65d00def263490ca68a5940e8159610",
            "bb852a35186842c78cbad71f7ecb553d",
            "398082186e954a67b9c55e6a0bf25e83",
            "3dc2d26dfa97438a8eb0daf5f7f07753",
            "147a839bacb64a6c94d467050dd02f0b",
            "63e2b960d7c149dd95e2cd03fbcdf31f",
            "bf79f43b775b4d2f9bd0ecb9d73ca95b",
            "3434d482c2964700b04ed040240d2b93",
            "ba1dd836689c43a8b7f8dbfda47022ed",
            "352cbfe418f94f1bb9e7cf5cf375bad2",
            "231f36c3bb5c4dd78be7123db871e491",
            "6a269b90e56842e49220ee17937cf378",
            "f427f11e2165404da6fb58f8db57929c",
            "f984165255c94eb29b315ef95296fee6",
            "47fd73d759f0477e805991629e79d8fa",
            "10bb727ff7354dee9296a2d41880fdac",
            "74fe3854a8d4436e9ca4ccc4150b03c1",
            "a615c3e9cd5a4c2199a1aabe797c5b1c",
            "58aba3abbc184db4a851c0c97d2ecaa5"
          ]
        },
        "id": "uNXVG2FIQwAq",
        "outputId": "69944614-9005-4561-cacc-c6c0854fcefc"
      },
      "execution_count": 3,
      "outputs": [
        {
          "output_type": "display_data",
          "data": {
            "text/plain": [
              "VBox(children=(HTML(value='<center> <img\\nsrc=https://huggingface.co/front/assets/huggingface_logo-noborder.sv…"
            ],
            "application/vnd.jupyter.widget-view+json": {
              "version_major": 2,
              "version_minor": 0,
              "model_id": "5760e245b6fb4ea0898d8fb546a60de7"
            }
          },
          "metadata": {}
        }
      ]
    },
    {
      "cell_type": "code",
      "source": [
        "bnb_config = BitsAndBytesConfig(\n",
        "    load_in_4bit = True,\n",
        "    bnb_4bit_use_double_quant = True,\n",
        "    bnb_4bit_quant_type = \"nf4\",\n",
        "    bnb_4bit_compute_dtype = torch.bfloat16\n",
        ")"
      ],
      "metadata": {
        "id": "hOEz3ivhDKAi"
      },
      "execution_count": 4,
      "outputs": []
    },
    {
      "cell_type": "code",
      "source": [
        "import triton\n",
        "import triton.language as tl\n",
        "\n",
        "@triton.jit\n",
        "def compute_absmax_kernel(\n",
        "    input_ptr, absmax_ptr, num_elements, BLOCK_SIZE: tl.constexpr\n",
        "):\n",
        "    pid = tl.program_id(0)\n",
        "    start_idx = pid * BLOCK_SIZE\n",
        "    offsets = start_idx + tl.arange(0, BLOCK_SIZE)\n",
        "    mask = offsets < num_elements\n",
        "    data = tl.load(input_ptr + offsets, mask=mask, other=0.0)\n",
        "    abs_data = tl.abs(data)\n",
        "    block_absmax = tl.max(abs_data, axis=0)\n",
        "    tl.store(absmax_ptr + pid, block_absmax)\n"
      ],
      "metadata": {
        "id": "zGUB6ykgW7_c"
      },
      "execution_count": 15,
      "outputs": []
    },
    {
      "cell_type": "code",
      "source": [
        "import torch\n",
        "\n",
        "BLOCK_SIZE = 1024\n",
        "\n",
        "input_tensor = torch.randn(10, 10).cuda()\n",
        "\n",
        "\n",
        "num_elements = input_tensor.numel()\n",
        "num_blocks = (num_elements + BLOCK_SIZE - 1) // BLOCK_SIZE\n",
        "\n",
        "\n",
        "absmax_tensor = torch.empty(num_blocks, device=input_tensor.device, dtype=torch.float32)\n",
        "\n",
        "\n",
        "compute_absmax_kernel[(num_blocks,)](\n",
        "    input_tensor, absmax_tensor, num_elements, BLOCK_SIZE=BLOCK_SIZE\n",
        ")"
      ],
      "metadata": {
        "id": "A8rF5xZcjTm9",
        "colab": {
          "base_uri": "https://localhost:8080/"
        },
        "outputId": "463c4c49-f2c6-491d-d526-d307bfb00c09"
      },
      "execution_count": 11,
      "outputs": [
        {
          "output_type": "execute_result",
          "data": {
            "text/plain": [
              "<triton.compiler.compiler.CompiledKernel at 0x7c8127bd1ad0>"
            ]
          },
          "metadata": {},
          "execution_count": 11
        }
      ]
    },
    {
      "cell_type": "code",
      "source": [
        "@triton.jit\n",
        "def dequantize_kernel(\n",
        "    quantized_ptr, absmax_ptr, output_ptr, M, N,\n",
        "    stride_qm, stride_qn, stride_om, stride_on,\n",
        "    BLOCK_M: tl.constexpr, BLOCK_N: tl.constexpr\n",
        "):\n",
        "    pid_m = tl.program_id(0)\n",
        "    pid_n = tl.program_id(1)\n",
        "    start_m = pid_m * BLOCK_M\n",
        "    start_n = pid_n * BLOCK_N\n",
        "    rm = start_m + tl.arange(0, BLOCK_M)\n",
        "    rn = start_n + tl.arange(0, BLOCK_N)\n",
        "    quantized = tl.load(\n",
        "        quantized_ptr + rm[:, None] * stride_qm + rn[None, :] * stride_qn,\n",
        "        mask=(rm[:, None] < M) & (rn[None, :] < N), other=0\n",
        "    )\n",
        "    absmax = tl.load(absmax_ptr + rm, mask=rm < M, other=1.0)\n",
        "    scale = absmax[:, None] / 7.0\n",
        "    dequantized = (quantized - 8) * scale\n",
        "    tl.store(\n",
        "        output_ptr + rm[:, None] * stride_om + rn[None, :] * stride_on,\n",
        "        dequantized,\n",
        "        mask=(rm[:, None] < M) & (rn[None, :] < N)\n",
        "    )\n"
      ],
      "metadata": {
        "id": "aD6BsP9CEhPy"
      },
      "execution_count": 16,
      "outputs": []
    },
    {
      "cell_type": "code",
      "source": [
        "# Define block sizes\n",
        "BLOCK_SIZE = 1024\n",
        "BLOCK_M, BLOCK_N = 128, 128\n",
        "\n",
        "# Using torch.compile to optimize performance\n",
        "@torch.compile\n",
        "def main():\n",
        "    # Input tensor\n",
        "    input_tensor = torch.randn(10, 10).cuda()\n",
        "\n",
        "    # Compute absmax\n",
        "    num_elements = input_tensor.numel()\n",
        "    num_blocks = (num_elements + BLOCK_SIZE - 1) // BLOCK_SIZE\n",
        "    absmax_tensor = torch.empty(num_blocks, device=input_tensor.device, dtype=torch.float32)\n",
        "    compute_absmax_kernel[(num_blocks,)](input_tensor, absmax_tensor, num_elements, BLOCK_SIZE=BLOCK_SIZE)\n",
        "\n",
        "    # Quantized tensor\n",
        "    quantized_tensor = torch.randint(0, 16, (10, 10), dtype=torch.int32, device='cuda')\n",
        "    M, N = quantized_tensor.shape\n",
        "    dequantized_tensor = torch.empty((M, N), device=quantized_tensor.device, dtype=torch.float32)\n",
        "\n",
        "    # Dequantize\n",
        "    grid = (triton.cdiv(M, BLOCK_M), triton.cdiv(N, BLOCK_N))\n",
        "    dequantize_kernel[grid](\n",
        "        quantized_tensor, absmax_tensor, dequantized_tensor, M, N,\n",
        "        quantized_tensor.stride(0), quantized_tensor.stride(1),\n",
        "        dequantized_tensor.stride(0), dequantized_tensor.stride(1),\n",
        "        BLOCK_M=BLOCK_M, BLOCK_N=BLOCK_N\n",
        "    )\n",
        "\n",
        "    print(\"Dequantized tensor:\", dequantized_tensor)\n",
        "\n",
        "# Execute the main function\n",
        "if __name__ == \"__main__\":\n",
        "    main()\n"
      ],
      "metadata": {
        "id": "cOc1dfGeSi-e",
        "colab": {
          "base_uri": "https://localhost:8080/"
        },
        "outputId": "11b75991-32c4-4260-af9b-1401f522b892"
      },
      "execution_count": 17,
      "outputs": [
        {
          "output_type": "stream",
          "name": "stdout",
          "text": [
            "Dequantized tensor: tensor([[ 7.7998e-01,  2.3399e+00, -7.7998e-01,  1.5600e+00, -2.3399e+00,\n",
            "          1.9499e+00,  1.5600e+00,  7.7998e-01,  3.8999e-01, -3.8999e-01],\n",
            "        [ 5.0262e-01, -5.0262e-01,  1.7592e+00, -1.0052e+00, -5.0262e-01,\n",
            "          1.5078e+00,  2.5131e-01,  0.0000e+00,  0.0000e+00, -1.5078e+00],\n",
            "        [-0.0000e+00,  0.0000e+00, -0.0000e+00, -0.0000e+00, -0.0000e+00,\n",
            "         -0.0000e+00, -0.0000e+00, -0.0000e+00,  0.0000e+00,  0.0000e+00],\n",
            "        [-1.9591e+00, -4.8977e-01, -2.4489e-01,  2.4489e-01,  1.4693e+00,\n",
            "         -1.9591e+00,  0.0000e+00, -2.4489e-01, -1.9591e+00,  1.2244e+00],\n",
            "        [ 1.0541e+19,  2.1082e+19, -5.2705e+18, -2.1082e+19, -4.2164e+19,\n",
            "          2.1082e+19, -5.2705e+18, -2.6352e+19,  3.1623e+19,  0.0000e+00],\n",
            "        [-1.2118e+00, -2.4235e-01,  7.2706e-01, -9.6942e-01, -7.2706e-01,\n",
            "         -1.4541e+00, -1.2118e+00, -1.9388e+00, -1.9388e+00,  1.6965e+00],\n",
            "        [-1.0541e+19, -2.6352e+19,  3.1623e+19,  2.6352e+19, -3.6893e+19,\n",
            "         -1.0541e+19, -4.2164e+19,  0.0000e+00,  2.6352e+19, -3.6893e+19],\n",
            "        [-6.8304e-01,  1.5938e+00,  2.2768e-01,  9.1072e-01, -1.5938e+00,\n",
            "         -1.8214e+00,  1.3661e+00, -2.2768e-01, -9.1072e-01,  6.8304e-01],\n",
            "        [ 2.0000e+00,  0.0000e+00, -2.8571e-01, -1.7143e+00, -1.7143e+00,\n",
            "          2.8571e-01, -1.1429e+00, -2.0000e+00,  2.8571e-01,  1.1429e+00],\n",
            "        [-1.4322e+00, -2.0051e+00, -8.5932e-01, -2.8644e-01, -8.5932e-01,\n",
            "         -1.7186e+00, -1.7186e+00,  1.4322e+00,  1.7186e+00, -1.1458e+00]],\n",
            "       device='cuda:0')\n"
          ]
        }
      ]
    },
    {
      "cell_type": "code",
      "source": [
        "import torch\n",
        "\n",
        "def reference_dequantize(quantized_tensor, absmax_tensor):\n",
        "    # Ensure the tensors are on the same device\n",
        "    device = quantized_tensor.device\n",
        "    absmax_tensor = absmax_tensor.to(device)\n",
        "\n",
        "    # Calculate the scale factor\n",
        "    scale = absmax_tensor[:, None] / 7.0  # Assuming 4-bit quantization ranges from -7 to 7\n",
        "\n",
        "    # Dequantize the tensor\n",
        "    dequantized = (quantized_tensor - 8) * scale  # Map [0, 15] to [-7, 7] and scale\n",
        "    return dequantized\n"
      ],
      "metadata": {
        "id": "0_fBNjcaiINN"
      },
      "execution_count": 18,
      "outputs": []
    },
    {
      "cell_type": "code",
      "source": [
        "import torch\n",
        "import triton\n",
        "import triton.language as tl\n",
        "\n",
        "def test_dequantize_function():\n",
        "    # Define tensor dimensions\n",
        "    M, N = 10, 10  # You can adjust these dimensions as needed\n",
        "\n",
        "    # Generate random quantized tensor and absmax tensor\n",
        "    quantized_tensor = torch.randint(0, 16, (M, N), dtype=torch.int32, device='cuda')\n",
        "    absmax_tensor = torch.rand(M, device='cuda') * 10  # Random absmax values between 0 and 10\n",
        "\n",
        "    # Allocate output tensor for Triton kernel\n",
        "    dequantized_tensor = torch.empty((M, N), device='cuda', dtype=torch.float32)\n",
        "\n",
        "    # Define block sizes\n",
        "    BLOCK_M, BLOCK_N = 128, 128\n",
        "\n",
        "    # Launch Triton kernel\n",
        "    grid = (triton.cdiv(M, BLOCK_M), triton.cdiv(N, BLOCK_N))\n",
        "    dequantize_kernel[grid](\n",
        "        quantized_tensor, absmax_tensor, dequantized_tensor,\n",
        "        M, N,\n",
        "        quantized_tensor.stride(0), quantized_tensor.stride(1),\n",
        "        dequantized_tensor.stride(0), dequantized_tensor.stride(1),\n",
        "        BLOCK_M=BLOCK_M, BLOCK_N=BLOCK_N\n",
        "    )\n",
        "\n",
        "    # Run reference dequantization\n",
        "    reference_output = reference_dequantize(quantized_tensor, absmax_tensor)\n",
        "\n",
        "    # Compare the outputs\n",
        "    if torch.allclose(dequantized_tensor, reference_output, atol=1e-6):\n",
        "        print(\"Test passed: Triton kernel output matches reference implementation.\")\n",
        "    else:\n",
        "        print(\"Test failed: Outputs do not match.\")\n",
        "        print(\"Triton output:\", dequantized_tensor)\n",
        "        print(\"Reference output:\", reference_output)\n",
        "\n",
        "# Ensure the Triton kernel is defined before running this test\n",
        "test_dequantize_function()\n"
      ],
      "metadata": {
        "colab": {
          "base_uri": "https://localhost:8080/"
        },
        "id": "21GQRvSalpxW",
        "outputId": "de36a443-0579-4011-c4a2-1f0e7b475c6c"
      },
      "execution_count": 19,
      "outputs": [
        {
          "output_type": "stream",
          "name": "stdout",
          "text": [
            "Test passed: Triton kernel output matches reference implementation.\n"
          ]
        }
      ]
    },
    {
      "cell_type": "code",
      "source": [],
      "metadata": {
        "id": "YTyNVht_lr5H"
      },
      "execution_count": null,
      "outputs": []
    }
  ]
}